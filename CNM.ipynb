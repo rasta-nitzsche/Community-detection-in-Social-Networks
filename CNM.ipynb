{
 "cells": [
  {
   "cell_type": "code",
   "execution_count": 1,
   "id": "fcbcf536",
   "metadata": {},
   "outputs": [],
   "source": [
    "import networkx as nx\n",
    "import numpy as np"
   ]
  },
  {
   "cell_type": "code",
   "execution_count": 2,
   "id": "a5fb061a",
   "metadata": {},
   "outputs": [],
   "source": [
    "\n",
    "# Inorder traversal\n",
    "def inorder(root):\n",
    "    pass\n",
    "\n",
    "def elems_single(root):\n",
    "    if root is not None:\n",
    "        elems = root.keys()\n",
    "        return list(elems)\n",
    "    return []\n",
    "\n",
    "def all_elems(root1,root2):\n",
    "    elems = elems_single(root1)\n",
    "    elems.extend(elems_single(root2))\n",
    "    return set(elems)\n",
    "\n",
    "# Insert a node\n",
    "def insert(node, key):\n",
    "    node[key[0]] = key[1]\n",
    "    return node\n",
    "\n",
    "# added\n",
    "def search_col(root, col):\n",
    "    return (root.get(col) is not None)\n",
    "\n",
    "def search_value(root, mod):\n",
    "    return ( mod in list(root.values()))\n",
    "\n",
    "# get the modularity (deltaQ) of a col k\n",
    "def extract_col(root, col):\n",
    "    return root.get(col)\n",
    "\n",
    "def update_tree(root, key, value):\n",
    "    root[key[0]] = value\n",
    "    return root\n",
    "\n",
    "\n",
    "\n",
    "# Find the inorder successor\n",
    "def minValueNode(node):\n",
    "    min_value = min(list(node.values()))\n",
    "    for key,value in node.items():\n",
    "        if value == min_value:\n",
    "            return key,value\n",
    "\n",
    "def maxValueNode(node):\n",
    "    max_value = max(list(node.values()))\n",
    "    for key,value in node.items():\n",
    "        if value == max_value:\n",
    "            return key,value\n",
    "\n",
    "# Deleting a node\n",
    "def deleteNode(root, key):\n",
    "    del root[key[0]]\n",
    "    return root"
   ]
  },
  {
   "cell_type": "code",
   "execution_count": 3,
   "id": "b7bc8b3a",
   "metadata": {},
   "outputs": [],
   "source": [
    "import sys\n",
    "class MaxHeap:\n",
    "  \n",
    "    def __init__(self, maxsize):\n",
    "          \n",
    "        self.maxsize = maxsize\n",
    "        self.size = 0\n",
    "        self.Heap = [[0,0,0]] * (self.maxsize + 1)\n",
    "        self.Heap[0] = [-1,-1,sys.maxsize]\n",
    "        self.FRONT = 1\n",
    "  \n",
    "    # Function to return the position of\n",
    "    # parent for the node currently\n",
    "    # at pos\n",
    "    def parent(self, pos):\n",
    "          \n",
    "        return pos // 2\n",
    "  \n",
    "    # Function to return the position of\n",
    "    # the left child for the node currently\n",
    "    # at pos\n",
    "    def leftChild(self, pos):\n",
    "          \n",
    "        return 2 * pos\n",
    "  \n",
    "    # Function to return the position of\n",
    "    # the right child for the node currently\n",
    "    # at pos\n",
    "    def rightChild(self, pos):\n",
    "          \n",
    "        return (2 * pos) + 1\n",
    "  \n",
    "    # Function that returns true if the passed\n",
    "    # node is a leaf node\n",
    "    def isLeaf(self, pos):\n",
    "          \n",
    "        if pos >= (self.size//2) and pos <= self.size:\n",
    "            return True\n",
    "        return False\n",
    "  \n",
    "    # Function to swap two nodes of the heap\n",
    "    def swap(self, fpos, spos):\n",
    "          \n",
    "        self.Heap[fpos], self.Heap[spos] = (self.Heap[spos], \n",
    "                                            self.Heap[fpos])\n",
    "  \n",
    "    # Function to heapify the node at pos\n",
    "    def maxHeapify(self, pos):\n",
    "  \n",
    "        # If the node is a non-leaf node and smaller\n",
    "        # than any of its child\n",
    "        if not self.isLeaf(pos):\n",
    "            if (self.Heap[pos][2] < self.Heap[self.leftChild(pos)][2] or\n",
    "                self.Heap[pos][2] < self.Heap[self.rightChild(pos)][2]):\n",
    "  \n",
    "                # Swap with the left child and heapify\n",
    "                # the left child\n",
    "                if (self.Heap[self.leftChild(pos)][2] > \n",
    "                    self.Heap[self.rightChild(pos)][2]):\n",
    "                    self.swap(pos, self.leftChild(pos))\n",
    "                    self.maxHeapify(self.leftChild(pos))\n",
    "  \n",
    "                # Swap with the right child and heapify\n",
    "                # the right child\n",
    "                else:\n",
    "                    self.swap(pos, self.rightChild(pos))\n",
    "                    self.maxHeapify(self.rightChild(pos))\n",
    "  \n",
    "    # Function to insert a node into the heap\n",
    "    def insert(self, element):\n",
    "          \n",
    "        if self.size >= self.maxsize:\n",
    "            return\n",
    "        self.size += 1\n",
    "        self.Heap[self.size] = element\n",
    "  \n",
    "        current = self.size\n",
    "  \n",
    "        while (self.Heap[current][2] > \n",
    "               self.Heap[self.parent(current)][2]):\n",
    "            self.swap(current, self.parent(current))\n",
    "            current = self.parent(current)      \n",
    "  \n",
    "    # Function to print the contents of the heap\n",
    "    def Print(self):\n",
    "        for i in range(1, (self.size // 2) + 1):\n",
    "            print(\" PARENT : \" + str(self.Heap[i]) + \n",
    "                  \" LEFT CHILD : \" + str(self.Heap[2 * i]) +\n",
    "                  \" RIGHT CHILD : \" + str(self.Heap[2 * i + 1]))\n",
    "  \n",
    "    # Function to remove and return the maximum\n",
    "    # element from the heap\n",
    "    # (dont think we need this)\n",
    "    def extractMax(self):\n",
    "  \n",
    "        popped = self.Heap[self.FRONT]\n",
    "        self.Heap[self.FRONT] = self.Heap[self.size]\n",
    "        self.size -= 1\n",
    "        self.maxHeapify(self.FRONT)\n",
    "          \n",
    "        return popped\n",
    "\n",
    "    # added\n",
    "\n",
    "    def heapify_all(self,k):\n",
    "        l = self.leftChild(k)\n",
    "        r = self.rightChild(k)\n",
    "        if l < len(self.Heap) and self.Heap[l][2] > self.Heap[k][2]:\n",
    "            largest = l\n",
    "        else:\n",
    "            largest = k\n",
    "        if r < len(self.Heap) and self.Heap[r][2] > self.Heap[largest][2]:\n",
    "            largest = r\n",
    "        if largest != k:\n",
    "            self.Heap[k], self.Heap[largest] = self.Heap[largest], self.Heap[k]\n",
    "            self.heapify_all(largest)\n",
    "\n",
    "    # get the max element of the heap\n",
    "    def getMax(self):\n",
    "        return self.Heap[1]    \n",
    "\n",
    "    def delete(self, element):\n",
    "        j = -1\n",
    "        for i in range(1, self.size + 1):\n",
    "            if((self.Heap[i][0] == element)):\n",
    "                j = i\n",
    "                break\n",
    "        if(j != -1):\n",
    "            self.Heap[j] = self.Heap[self.size]\n",
    "            self.size -= 1\n",
    "            #self.Heap[j], self.Heap[self.FRONT] = self.Heap[self.FRONT], self.Heap[j]\n",
    "            self.maxHeapify(self.FRONT)  \n",
    "\n",
    "\n",
    "    def search(self, element):\n",
    "        for i in range(1, self.size + 1):\n",
    "            if((self.Heap[i][0] == element[0]) and (self.Heap[i][1] == element[1])):\n",
    "                return True\n",
    "        return False    \n",
    "\n",
    "    def update(self, element, value):\n",
    "        j = -1\n",
    "        for i in range(1, self.size + 1):\n",
    "            if((self.Heap[i][0] == element[0]) and (self.Heap[i][1] == element[1])):\n",
    "                j = i\n",
    "                self.Heap[i][2] = value\n",
    "                break\n",
    "        if(j != -1):\n",
    "            el = self.Heap[j]\n",
    "            el[2] = value\n",
    "            self.delete(self.Heap[j])\n",
    "            self.insert(el)\n",
    "        #self.maxHeapify(1)  "
   ]
  },
  {
   "cell_type": "code",
   "execution_count": 4,
   "id": "171d01d6",
   "metadata": {},
   "outputs": [],
   "source": [
    "import networkx.algorithms.community as nx_com"
   ]
  },
  {
   "cell_type": "code",
   "execution_count": 5,
   "id": "713faceb",
   "metadata": {},
   "outputs": [],
   "source": [
    "class CNM:\n",
    "    def __init__(self, G):\n",
    "        self.G = G\n",
    "        self.sparse = []\n",
    "        self.num_edges = G.number_of_edges()\n",
    "        self.degrees = G.degree\n",
    "        self.num_nodes = G.number_of_nodes()\n",
    "        self.nodes = list(G.nodes)\n",
    "        self.heap = MaxHeap(G.number_of_nodes())\n",
    "        self.communities = []\n",
    "        self.a = []\n",
    "        self.modularity = 0\n",
    "        self.mods = []\n",
    "        self.best_communities = []\n",
    "        # to be continued :)\n",
    "    \n",
    "    def init_communities(self):\n",
    "        for node in self.nodes:\n",
    "            self.communities.append([node])\n",
    "    \n",
    "    def delta_i_j_init (self, i,j) :\n",
    "        if (i in self.G.adj[j]) :\n",
    "            return 1/(2* self.num_edges) - (self.degrees[i] * self.degrees[j]) / ((2* self.num_edges) **2)\n",
    "        else :\n",
    "            return 0\n",
    "    \n",
    "    def a_i_init(self, i) :\n",
    "        return self.degrees[i] / (2 * self.num_edges)\n",
    "    \n",
    "    def init_a(self):\n",
    "        for node in self.nodes:\n",
    "            val = self.a_i_init(node)\n",
    "            self.a.append(val)\n",
    "        \n",
    "    \n",
    "    def init_sparse(self):\n",
    "        n = self.num_nodes\n",
    "        for i in range(n):\n",
    "            root = {}\n",
    "            line_idx = self.nodes[i]\n",
    "            for j in range(n):\n",
    "                col_idx = self.nodes[j]\n",
    "                delta = self.delta_i_j_init(line_idx, col_idx)\n",
    "                if(delta != 0):\n",
    "                    #root = insert(root, [col_idx, delta])\n",
    "                    root = insert(root, [j, delta])\n",
    "            self.sparse.append(root) \n",
    "            \n",
    "    def init_heap(self):\n",
    "        for i in range(self.num_nodes):\n",
    "            if self.sparse[i] is not None:\n",
    "                node = maxValueNode(self.sparse[i])\n",
    "                self.heap.insert([i, node[0], node[1]])\n",
    "    \n",
    "    def update_heap(self):\n",
    "        self.heap = None\n",
    "        self.heap = MaxHeap(len(self.sparse))\n",
    "        for i in range(len(self.sparse)):\n",
    "            if bool(self.sparse[i]):\n",
    "                node = maxValueNode(self.sparse[i])\n",
    "                self.heap.insert([i, node[0], node[1]])\n",
    "                \n",
    "    # returns true if j is connected to i\n",
    "    def connected_communities(self, i, j):\n",
    "        # check if atleast 1 node is in the tree of spare[i]\n",
    "        if self.communities[j] is not None:\n",
    "            return extract_col(self.sparse[j], i) is not None\n",
    "        return False  \n",
    "    \n",
    "                \n",
    "    def iterate(self):\n",
    "        \n",
    "        # perform one iteration\n",
    "        # 1) get the max of the heap\n",
    "        i, j, mod = self.heap.getMax()\n",
    "        mini = min(i,j)\n",
    "        maxi = max(i,j)\n",
    "        j=mini\n",
    "        i=maxi\n",
    "        if mod < 0 and not bool(self.best_communities):\n",
    "            comms= self.communities\n",
    "            communities_sets = []\n",
    "            for comm in comms:\n",
    "                if comm is not None:\n",
    "                    communities_sets.append(frozenset(comm))\n",
    "            self.best_communities = communities_sets\n",
    "            print(nx_com.modularity(self.G,self.best_communities,weight=None))\n",
    "            \n",
    "        # update modularity\n",
    "        self.modularity += mod\n",
    "        # 2) update all k connected to j or i (update j-th row & j-th col)\n",
    "#         for k in all_elems(self.sparse[i],self.sparse[j]):\n",
    "        for k in all_elems(self.sparse[i],self.sparse[j]):\n",
    "            if(self.communities[k] is not None):\n",
    "                if (k!=i) and (k!=j):\n",
    "                    if((self.connected_communities(i, k)) and (self.connected_communities(j, k))):\n",
    "                        deltaQ_jk = extract_col(self.sparse[j], k)\n",
    "                        if deltaQ_jk is None:\n",
    "                            print(\"deltaQ_jk None in {} {}\".format(j, k))\n",
    "                        deltaQ_ik = extract_col(self.sparse[i], k)\n",
    "                        if deltaQ_ik is None:\n",
    "                            print(\"deltaQ_ik None in {} {}\".format(i, k))\n",
    "                        new_deltaQ_jk = deltaQ_ik + deltaQ_jk\n",
    "                        self.sparse[j] = update_tree(self.sparse[j], [k, deltaQ_jk], new_deltaQ_jk)\n",
    "                        self.sparse[k] = update_tree(self.sparse[k], [j, deltaQ_jk], new_deltaQ_jk)\n",
    "                    # k connected to i but not to j\n",
    "                    elif((self.connected_communities(i, k)) and (not self.connected_communities(j, k))):\n",
    "                        deltaQ_ik = extract_col(self.sparse[i], k)\n",
    "                        new_deltaQ_jk = deltaQ_ik - 2 * self.a[j] * self.a[k]\n",
    "                        self.sparse[j] = insert(self.sparse[j], [k, new_deltaQ_jk])\n",
    "                                # added right now \n",
    "                        self.sparse[k] = insert(self.sparse[k], [j, new_deltaQ_jk])\n",
    "\n",
    "                            # k connected to j but not to i    \n",
    "                    elif((self.connected_communities(j, k)) and (not self.connected_communities(i, k))):\n",
    "                        deltaQ_jk = extract_col(self.sparse[j], k)\n",
    "                        new_deltaQ_jk = deltaQ_jk - 2 * self.a[i] * self.a[k]\n",
    "                        self.sparse[j] = update_tree(self.sparse[j], [k, deltaQ_jk], new_deltaQ_jk)\n",
    "                                # because of the symmetry\n",
    "                        self.sparse[k] = update_tree(self.sparse[k], [j, deltaQ_jk], new_deltaQ_jk)\n",
    "                    \n",
    "        # 3) merge i and j (remove ith col and row)   \n",
    "        \n",
    "        # remove i-th col (delete all nodes that have col=i from the trees in the sparse matrix)\n",
    "        for k in all_elems(self.sparse[i], None):\n",
    "            mod = extract_col(self.sparse[k], i)\n",
    "            if mod is not None:\n",
    "                self.sparse[k] = deleteNode(self.sparse[k], [i, mod])\n",
    "                \n",
    "        # remove i-th row\n",
    "        self.sparse[i] = None\n",
    "        \n",
    "        # update the heap   \n",
    "        #self.heap = MaxHeap(len(self.sparse))\n",
    "        self.update_heap()\n",
    "\n",
    "        # update the communities array\n",
    "        for node in self.communities[i]:\n",
    "#             print(\"merging {} inside of {}\".format(i, j))\n",
    "            \n",
    "            self.communities[j].append(node)\n",
    "        #self.communities.pop(i)\n",
    "        self.communities[i] = None\n",
    "        # update a \n",
    "        self.a[j] += self.a[i]\n",
    "        self.a[i] = 0\n",
    "    def run(self):\n",
    "        self.init_a()\n",
    "        self.init_communities()\n",
    "        self.init_sparse()\n",
    "        self.init_heap()\n",
    "        for i in range(self.num_nodes - 1):\n",
    "            self.iterate()\n",
    "            self.mods.append(self.modularity)\n",
    "            if self.heap.size == 0:\n",
    "                break\n",
    "        \n",
    "#         print(\"final result\")\n",
    "#         print(self.communities)     \n",
    "            "
   ]
  },
  {
   "cell_type": "code",
   "execution_count": 6,
   "id": "04331495",
   "metadata": {},
   "outputs": [],
   "source": [
    "import time\n",
    "import matplotlib.pyplot as plt"
   ]
  },
  {
   "cell_type": "code",
   "execution_count": 7,
   "id": "1432f9b6",
   "metadata": {
    "scrolled": true
   },
   "outputs": [],
   "source": [
    "def cnm_algo(G):\n",
    "    cnm = CNM(G)\n",
    "    debut =time.time()\n",
    "    cnm.run()\n",
    "    fin = time.time() - debut\n",
    "    mod = nx_com.modularity(G,cnm.best_communities,weight=None)\n",
    "    print(\"modularity: \",mod)\n",
    "    print(\"Execution time: \",fin)\n",
    "    plt.plot(cnm.mods)"
   ]
  },
  {
   "cell_type": "code",
   "execution_count": 8,
   "id": "74e34386",
   "metadata": {},
   "outputs": [],
   "source": [
    "g1 = nx.read_edgelist(\"./benchmarks/0.1/network.dat\", create_using=nx.DiGraph(), nodetype=int)\n",
    "g2 = nx.read_edgelist(\"./benchmarks/0.2/network.dat\", create_using=nx.DiGraph(), nodetype=int)\n",
    "g3 = nx.read_edgelist(\"./benchmarks/0.3/network.dat\", create_using=nx.DiGraph(), nodetype=int)\n",
    "g4 = nx.read_edgelist(\"./benchmarks/0.4/network.dat\", create_using=nx.DiGraph(), nodetype=int)\n",
    "g5 = nx.read_edgelist(\"./benchmarks/0.5/network.dat\", create_using=nx.DiGraph(), nodetype=int)\n",
    "g6 = nx.read_edgelist(\"./benchmarks/0.6/network.dat\", create_using=nx.DiGraph(), nodetype=int)\n",
    "g7 = nx.read_edgelist(\"./benchmarks/0.7/network.dat\", create_using=nx.DiGraph(), nodetype=int)\n",
    "g8 = nx.read_edgelist(\"./benchmarks/0.8/network.dat\", create_using=nx.DiGraph(), nodetype=int)\n",
    "g9 = nx.read_edgelist(\"./benchmarks/0.9/network.dat\", create_using=nx.DiGraph(), nodetype=int)"
   ]
  },
  {
   "cell_type": "code",
   "execution_count": 9,
   "id": "858d107a",
   "metadata": {
    "scrolled": true
   },
   "outputs": [
    {
     "name": "stdout",
     "output_type": "stream",
     "text": [
      "0.37886259040105197\n",
      "modularity:  0.37886259040105197\n",
      "Execution time:  0.004878044128417969\n"
     ]
    },
    {
     "data": {
      "image/png": "[encoded data removed]",
      "text/plain": [
       "<Figure size 432x288 with 1 Axes>"
      ]
     },
     "metadata": {
      "needs_background": "light"
     },
     "output_type": "display_data"
    }
   ],
   "source": [
    "G = nx.karate_club_graph()\n",
    "cnm_algo(G)"
   ]
  },
  {
   "cell_type": "code",
   "execution_count": 10,
   "id": "14c5e9dd",
   "metadata": {},
   "outputs": [
    {
     "name": "stdout",
     "output_type": "stream",
     "text": [
      "0.4898144851865036\n",
      "modularity:  0.4898144851865036\n",
      "Execution time:  0.01659226417541504\n"
     ]
    },
    {
     "data": {
      "image/png": "[encoded data removed]",
      "text/plain": [
       "<Figure size 432x288 with 1 Axes>"
      ]
     },
     "metadata": {
      "needs_background": "light"
     },
     "output_type": "display_data"
    }
   ],
   "source": [
    "g = nx.read_gml('dolphins.gml', label='id')\n",
    "cnm_algo(g)"
   ]
  },
  {
   "cell_type": "code",
   "execution_count": 11,
   "id": "3f0ffba7",
   "metadata": {},
   "outputs": [
    {
     "name": "stdout",
     "output_type": "stream",
     "text": [
      "0.5667950256673648\n",
      "modularity:  0.5667950256673648\n",
      "Execution time:  0.09076952934265137\n"
     ]
    },
    {
     "data": {
      "image/png": "[encoded data removed]",
      "text/plain": [
       "<Figure size 432x288 with 1 Axes>"
      ]
     },
     "metadata": {
      "needs_background": "light"
     },
     "output_type": "display_data"
    }
   ],
   "source": [
    "g = nx.read_gml('football.gml', label='id')\n",
    "cnm_algo(g)"
   ]
  },
  {
   "cell_type": "code",
   "execution_count": 12,
   "id": "b34a6715",
   "metadata": {
    "scrolled": true
   },
   "outputs": [
    {
     "name": "stdout",
     "output_type": "stream",
     "text": [
      "0.4127197265625\n",
      "modularity:  0.4127197265625\n",
      "Execution time:  0.057615041732788086\n"
     ]
    },
    {
     "data": {
      "image/png": "[encoded data removed]",
      "text/plain": [
       "<Figure size 432x288 with 1 Axes>"
      ]
     },
     "metadata": {
      "needs_background": "light"
     },
     "output_type": "display_data"
    }
   ],
   "source": [
    "cnm_algo(g1)"
   ]
  },
  {
   "cell_type": "code",
   "execution_count": 13,
   "id": "e28827ba",
   "metadata": {},
   "outputs": [
    {
     "name": "stdout",
     "output_type": "stream",
     "text": [
      "0.25146484375\n",
      "modularity:  0.25146484375\n",
      "Execution time:  0.057579994201660156\n"
     ]
    },
    {
     "data": {
      "image/png": "[encoded data removed]",
      "text/plain": [
       "<Figure size 432x288 with 1 Axes>"
      ]
     },
     "metadata": {
      "needs_background": "light"
     },
     "output_type": "display_data"
    }
   ],
   "source": [
    "cnm_algo(g2)"
   ]
  },
  {
   "cell_type": "code",
   "execution_count": 14,
   "id": "2d533b30",
   "metadata": {},
   "outputs": [
    {
     "name": "stdout",
     "output_type": "stream",
     "text": [
      "0.198486328125\n",
      "modularity:  0.198486328125\n",
      "Execution time:  0.05758357048034668\n"
     ]
    },
    {
     "data": {
      "image/png": "[encoded data removed]",
      "text/plain": [
       "<Figure size 432x288 with 1 Axes>"
      ]
     },
     "metadata": {
      "needs_background": "light"
     },
     "output_type": "display_data"
    }
   ],
   "source": [
    "cnm_algo(g3)"
   ]
  },
  {
   "cell_type": "code",
   "execution_count": 15,
   "id": "ecea133f",
   "metadata": {},
   "outputs": [
    {
     "name": "stdout",
     "output_type": "stream",
     "text": [
      "0.1558837890625\n",
      "modularity:  0.1558837890625\n",
      "Execution time:  0.07804393768310547\n"
     ]
    },
    {
     "data": {
      "image/png": "[encoded data removed]",
      "text/plain": [
       "<Figure size 432x288 with 1 Axes>"
      ]
     },
     "metadata": {
      "needs_background": "light"
     },
     "output_type": "display_data"
    }
   ],
   "source": [
    "cnm_algo(g4)"
   ]
  },
  {
   "cell_type": "code",
   "execution_count": 16,
   "id": "9b7355da",
   "metadata": {},
   "outputs": [
    {
     "name": "stdout",
     "output_type": "stream",
     "text": [
      "0.1319580078125\n",
      "modularity:  0.1319580078125\n",
      "Execution time:  0.07319760322570801\n"
     ]
    },
    {
     "data": {
      "image/png": "[encoded data removed]",
      "text/plain": [
       "<Figure size 432x288 with 1 Axes>"
      ]
     },
     "metadata": {
      "needs_background": "light"
     },
     "output_type": "display_data"
    }
   ],
   "source": [
    "cnm_algo(g5)"
   ]
  },
  {
   "cell_type": "code",
   "execution_count": 17,
   "id": "28a9e7ad",
   "metadata": {},
   "outputs": [
    {
     "name": "stdout",
     "output_type": "stream",
     "text": [
      "0.1204833984375\n",
      "modularity:  0.1204833984375\n",
      "Execution time:  0.18057799339294434\n"
     ]
    },
    {
     "data": {
      "image/png": "[encoded data removed]",
      "text/plain": [
       "<Figure size 432x288 with 1 Axes>"
      ]
     },
     "metadata": {
      "needs_background": "light"
     },
     "output_type": "display_data"
    }
   ],
   "source": [
    "cnm_algo(g6)"
   ]
  },
  {
   "cell_type": "code",
   "execution_count": 18,
   "id": "85b6aa9b",
   "metadata": {},
   "outputs": [
    {
     "name": "stdout",
     "output_type": "stream",
     "text": [
      "0.126953125\n",
      "modularity:  0.126953125\n",
      "Execution time:  0.07439088821411133\n"
     ]
    },
    {
     "data": {
      "image/png": "[encoded data removed]",
      "text/plain": [
       "<Figure size 432x288 with 1 Axes>"
      ]
     },
     "metadata": {
      "needs_background": "light"
     },
     "output_type": "display_data"
    }
   ],
   "source": [
    "cnm_algo(g7)"
   ]
  },
  {
   "cell_type": "code",
   "execution_count": 19,
   "id": "23351f91",
   "metadata": {},
   "outputs": [
    {
     "name": "stdout",
     "output_type": "stream",
     "text": [
      "0.1297607421875\n",
      "modularity:  0.1297607421875\n",
      "Execution time:  0.07222461700439453\n"
     ]
    },
    {
     "data": {
      "image/png": "[encoded data removed]",
      "text/plain": [
       "<Figure size 432x288 with 1 Axes>"
      ]
     },
     "metadata": {
      "needs_background": "light"
     },
     "output_type": "display_data"
    }
   ],
   "source": [
    "cnm_algo(g8)"
   ]
  },
  {
   "cell_type": "code",
   "execution_count": 20,
   "id": "e402a27c",
   "metadata": {},
   "outputs": [
    {
     "name": "stdout",
     "output_type": "stream",
     "text": [
      "0.1204833984375\n",
      "modularity:  0.1204833984375\n",
      "Execution time:  0.06249499320983887\n"
     ]
    },
    {
     "data": {
      "image/png": "[encoded data removed]",
      "text/plain": [
       "<Figure size 432x288 with 1 Axes>"
      ]
     },
     "metadata": {
      "needs_background": "light"
     },
     "output_type": "display_data"
    }
   ],
   "source": [
    "cnm_algo(g9)"
   ]
  },
  {
   "cell_type": "code",
   "execution_count": null,
   "id": "39ed94fb",
   "metadata": {},
   "outputs": [],
   "source": []
  }
 ],
 "metadata": {
  "kernelspec": {
   "display_name": "Python 3 (ipykernel)",
   "language": "python",
   "name": "python3"
  },
  "language_info": {
   "codemirror_mode": {
    "name": "ipython",
    "version": 3
   },
   "file_extension": ".py",
   "mimetype": "text/x-python",
   "name": "python",
   "nbconvert_exporter": "python",
   "pygments_lexer": "ipython3",
   "version": "3.8.3"
  }
 },
 "nbformat": 4,
 "nbformat_minor": 5
}
